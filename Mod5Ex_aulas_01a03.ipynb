{
 "cells": [
  {
   "cell_type": "markdown",
   "metadata": {},
   "source": [
    "# Módulo 5 Tarefa 1\n",
    "## Base de nascidos vivos do DataSUS\n",
    "O DataSUS disponibiliza diversos arquivos de dados com relação a seus segurados, conforme a [lei da transparência de informações públicas](https://www.sisgov.com/transparencia-acesso-informacao/#:~:text=A%20Lei%20da%20Transpar%C3%AAncia%20(LC,em%20um%20site%20na%20internet.). \n",
    "\n",
    "Essas informações podem ser obtidas pela internet [aqui](http://www2.datasus.gov.br/DATASUS/index.php?area=0901&item=1). Como o processo de obtenção desses arquivos foge um pouco do nosso escopo, deixamos o arquivo ```SINASC_RO_2019.csv``` já como vai ser encontrado no DataSUS. O dicionário de dados está no arquivo ```estrutura_sinasc_para_CD.pdf``` (o nome do arquivo tal qual no portal do DataSUS).\n",
    "\n",
    "### Nosso objetivo\n",
    "Queremos deixar uma base organizada para podermos estudar a relação entre partos com risco para o bebê e algumas condições como tempo de parto, consultas de pré-natal etc.\n",
    "\n",
    "#### Preparação da base\n",
    "1. Carregue a base 'SINASC_RO_2019.csv'. Conte o número de registros e o número de registros não duplicados da base. Dica: você aprendeu um método que remove duplicados, encadeie este método com um outro método que conta o número de linhas. **Há linhas duplicadas?**  \n",
    "\n",
    "2. Conte o número de valores *missing* por variável.  \n",
    "\n",
    "3. Ok, no item anterior você deve ter achado pouco prático ler a informação de tantas variáveis, muitas delas nem devem ser interesantes. Então crie uma seleção dessa base somente com as colunas que interessam. São elas:\n",
    "``` \n",
    "['LOCNASC', 'IDADEMAE', 'ESTCIVMAE', 'ESCMAE', 'QTDFILVIVO', \n",
    "    'GESTACAO', 'GRAVIDEZ', 'CONSULTAS', 'APGAR5'] \n",
    "```\n",
    "Refaça a contagem de valores *missings*.  \n",
    "\n",
    "4. Apgar é uma *nota* que o pediatra dá ao bebê quando nasce de acordo com algumas características associadas principalmente à respiração. Apgar 1 e Apgar 5 são as notas 1 e 5 minutos do nascimento. Apgar5 será a nossa variável de interesse principal. Então remova todos os registros com Apgar5 não preenchido. Para esta seleção, conte novamente o número de linhas e o número de *missings*.  \n",
    "\n",
    "5. observe que as variáveis ```['ESTCIVMAE', 'CONSULTAS']``` possuem o código ```9```, que significa *ignorado*. Vamos assumir que o não preenchido é o mesmo que o código ```9```.<br>\n",
    "6. Substitua os valores faltantes da quantitativa (```QTDFILVIVO```) por zero.  \n",
    "7. Das restantes, decida que valore te parece mais adequado (um 'não preenchido' ou um valor 'mais provável' como no item anterior) e preencha. Justifique. Lembre-se de que tratamento de dados é trabalho do cientista, e que estamos tomando decisões a todo o momento - não há necessariamente certo e errado aqui.  \n",
    "8. O Apgar possui uma classificação indicando se o bebê passou por asfixia:\n",
    "- Entre 8 e 10 está em uma faixa 'normal'. \n",
    "- Entre 6 e 7, significa que o recém-nascido passou por 'asfixia leve'. \n",
    "- Entre 4 e 5 significa 'asfixia moderada'.\n",
    "- Entre 0 e 3 significa 'asfixia severa'.  \n",
    "\n",
    "Crie uma categorização dessa variável com essa codificação e calcule as frequências dessa categorização.  \n",
    "<br>\n",
    "9. Renomeie as variáveis para que fiquem no *snake case*, ou seja, em letras minúsculas, com um *underscore* entre as palávras. Dica: repare que se você não quiser criar um *dataframe* novo, você vai precisar usar a opção ```inplace = True```."
   ]
  },
  {
   "cell_type": "code",
   "execution_count": 1,
   "metadata": {},
   "outputs": [
    {
     "name": "stdout",
     "output_type": "stream",
     "text": [
      "(27028, 69)\n"
     ]
    },
    {
     "data": {
      "text/plain": [
       "(27028, 69)"
      ]
     },
     "execution_count": 1,
     "metadata": {},
     "output_type": "execute_result"
    }
   ],
   "source": [
    "import pandas as pd\n",
    "import requests\n",
    "import matplotlib.pyplot as plt\n",
    "import seaborn as sns\n",
    "%matplotlib inline\n",
    "\n",
    "# 1) seu código aqui\n",
    "sinasc = pd.read_csv('SINASC_RO_2019.csv')\n",
    "print(sinasc.shape)\n",
    "sinasc.drop_duplicates().shape\n",
    "# Não há duplicados"
   ]
  },
  {
   "cell_type": "code",
   "execution_count": 2,
   "metadata": {},
   "outputs": [
    {
     "name": "stdout",
     "output_type": "stream",
     "text": [
      "<class 'pandas.core.frame.DataFrame'>\n",
      "RangeIndex: 27028 entries, 0 to 27027\n",
      "Data columns (total 69 columns):\n",
      " #   Column        Non-Null Count  Dtype  \n",
      "---  ------        --------------  -----  \n",
      " 0   ORIGEM        27028 non-null  int64  \n",
      " 1   CODESTAB      26913 non-null  float64\n",
      " 2   CODMUNNASC    27028 non-null  int64  \n",
      " 3   LOCNASC       27028 non-null  int64  \n",
      " 4   IDADEMAE      27028 non-null  int64  \n",
      " 5   ESTCIVMAE     26711 non-null  float64\n",
      " 6   ESCMAE        26716 non-null  object \n",
      " 7   CODOCUPMAE    24121 non-null  float64\n",
      " 8   QTDFILVIVO    25455 non-null  float64\n",
      " 9   QTDFILMORT    24930 non-null  float64\n",
      " 10  CODMUNRES     27028 non-null  int64  \n",
      " 11  GESTACAO      25796 non-null  object \n",
      " 12  GRAVIDEZ      26949 non-null  object \n",
      " 13  PARTO         26979 non-null  object \n",
      " 14  CONSULTAS     27028 non-null  int64  \n",
      " 15  DTNASC        27028 non-null  object \n",
      " 16  HORANASC      27007 non-null  float64\n",
      " 17  SEXO          27024 non-null  object \n",
      " 18  APGAR1        26932 non-null  float64\n",
      " 19  APGAR5        26925 non-null  float64\n",
      " 20  RACACOR       26381 non-null  object \n",
      " 21  PESO          27028 non-null  int64  \n",
      " 22  IDANOMAL      26437 non-null  float64\n",
      " 23  DTCADASTRO    27028 non-null  object \n",
      " 24  CODANOMAL     214 non-null    object \n",
      " 25  NUMEROLOTE    27028 non-null  int64  \n",
      " 26  VERSAOSIST    27028 non-null  object \n",
      " 27  DTRECEBIM     27028 non-null  object \n",
      " 28  DIFDATA       27028 non-null  int64  \n",
      " 29  DTRECORIGA    0 non-null      float64\n",
      " 30  NATURALMAE    26730 non-null  float64\n",
      " 31  CODMUNNATU    26730 non-null  float64\n",
      " 32  CODUFNATU     26730 non-null  float64\n",
      " 33  ESCMAE2010    26779 non-null  float64\n",
      " 34  SERIESCMAE    14318 non-null  float64\n",
      " 35  DTNASCMAE     26988 non-null  float64\n",
      " 36  RACACORMAE    26367 non-null  float64\n",
      " 37  QTDGESTANT    25816 non-null  float64\n",
      " 38  QTDPARTNOR    25149 non-null  float64\n",
      " 39  QTDPARTCES    25237 non-null  float64\n",
      " 40  IDADEPAI      7607 non-null   float64\n",
      " 41  DTULTMENST    16956 non-null  float64\n",
      " 42  SEMAGESTAC    25790 non-null  float64\n",
      " 43  TPMETESTIM    25790 non-null  float64\n",
      " 44  CONSPRENAT    26098 non-null  float64\n",
      " 45  MESPRENAT     24161 non-null  float64\n",
      " 46  TPAPRESENT    26763 non-null  float64\n",
      " 47  STTRABPART    26081 non-null  float64\n",
      " 48  STCESPARTO    26281 non-null  float64\n",
      " 49  TPNASCASSI    26967 non-null  float64\n",
      " 50  TPFUNCRESP    26961 non-null  float64\n",
      " 51  TPDOCRESP     27014 non-null  float64\n",
      " 52  DTDECLARAC    26976 non-null  float64\n",
      " 53  ESCMAEAGR1    26779 non-null  float64\n",
      " 54  STDNEPIDEM    27028 non-null  int64  \n",
      " 55  STDNNOVA      27028 non-null  int64  \n",
      " 56  CODPAISRES    27028 non-null  int64  \n",
      " 57  TPROBSON      27028 non-null  int64  \n",
      " 58  PARIDADE      27028 non-null  int64  \n",
      " 59  KOTELCHUCK    27028 non-null  int64  \n",
      " 60  CONTADOR      27028 non-null  int64  \n",
      " 61  munResStatus  27028 non-null  object \n",
      " 62  munResTipo    27028 non-null  object \n",
      " 63  munResNome    27028 non-null  object \n",
      " 64  munResUf      27028 non-null  object \n",
      " 65  munResLat     27027 non-null  float64\n",
      " 66  munResLon     27027 non-null  float64\n",
      " 67  munResAlt     27027 non-null  float64\n",
      " 68  munResArea    27027 non-null  float64\n",
      "dtypes: float64(38), int64(16), object(15)\n",
      "memory usage: 14.2+ MB\n"
     ]
    }
   ],
   "source": [
    "sinasc.info()"
   ]
  },
  {
   "cell_type": "code",
   "execution_count": 3,
   "metadata": {},
   "outputs": [],
   "source": [
    "# 2) seu código aqui\n",
    "def itens_faltates(df: pd.DataFrame) -> None:\n",
    "    qtde_var = 0\n",
    "    for col in df.columns:\n",
    "        soma_faltante = 0\n",
    "        soma_faltante = sum(df[col].isna())\n",
    "        if soma_faltante > 0:\n",
    "            qtde_var += 1\n",
    "            print(f'Coluna {col} possui {soma_faltante} valores faltantes.')\n",
    "    print(f'Esse DataFrame possui {qtde_var} variáveis com itens faltantes.')\n",
    "    return None"
   ]
  },
  {
   "cell_type": "code",
   "execution_count": 4,
   "metadata": {},
   "outputs": [
    {
     "name": "stdout",
     "output_type": "stream",
     "text": [
      "Coluna CODESTAB possui 115 valores faltantes.\n",
      "Coluna ESTCIVMAE possui 317 valores faltantes.\n",
      "Coluna ESCMAE possui 312 valores faltantes.\n",
      "Coluna CODOCUPMAE possui 2907 valores faltantes.\n",
      "Coluna QTDFILVIVO possui 1573 valores faltantes.\n",
      "Coluna QTDFILMORT possui 2098 valores faltantes.\n",
      "Coluna GESTACAO possui 1232 valores faltantes.\n",
      "Coluna GRAVIDEZ possui 79 valores faltantes.\n",
      "Coluna PARTO possui 49 valores faltantes.\n",
      "Coluna HORANASC possui 21 valores faltantes.\n",
      "Coluna SEXO possui 4 valores faltantes.\n",
      "Coluna APGAR1 possui 96 valores faltantes.\n",
      "Coluna APGAR5 possui 103 valores faltantes.\n",
      "Coluna RACACOR possui 647 valores faltantes.\n",
      "Coluna IDANOMAL possui 591 valores faltantes.\n",
      "Coluna CODANOMAL possui 26814 valores faltantes.\n",
      "Coluna DTRECORIGA possui 27028 valores faltantes.\n",
      "Coluna NATURALMAE possui 298 valores faltantes.\n",
      "Coluna CODMUNNATU possui 298 valores faltantes.\n",
      "Coluna CODUFNATU possui 298 valores faltantes.\n",
      "Coluna ESCMAE2010 possui 249 valores faltantes.\n",
      "Coluna SERIESCMAE possui 12710 valores faltantes.\n",
      "Coluna DTNASCMAE possui 40 valores faltantes.\n",
      "Coluna RACACORMAE possui 661 valores faltantes.\n",
      "Coluna QTDGESTANT possui 1212 valores faltantes.\n",
      "Coluna QTDPARTNOR possui 1879 valores faltantes.\n",
      "Coluna QTDPARTCES possui 1791 valores faltantes.\n",
      "Coluna IDADEPAI possui 19421 valores faltantes.\n",
      "Coluna DTULTMENST possui 10072 valores faltantes.\n",
      "Coluna SEMAGESTAC possui 1238 valores faltantes.\n",
      "Coluna TPMETESTIM possui 1238 valores faltantes.\n",
      "Coluna CONSPRENAT possui 930 valores faltantes.\n",
      "Coluna MESPRENAT possui 2867 valores faltantes.\n",
      "Coluna TPAPRESENT possui 265 valores faltantes.\n",
      "Coluna STTRABPART possui 947 valores faltantes.\n",
      "Coluna STCESPARTO possui 747 valores faltantes.\n",
      "Coluna TPNASCASSI possui 61 valores faltantes.\n",
      "Coluna TPFUNCRESP possui 67 valores faltantes.\n",
      "Coluna TPDOCRESP possui 14 valores faltantes.\n",
      "Coluna DTDECLARAC possui 52 valores faltantes.\n",
      "Coluna ESCMAEAGR1 possui 249 valores faltantes.\n",
      "Coluna munResLat possui 1 valores faltantes.\n",
      "Coluna munResLon possui 1 valores faltantes.\n",
      "Coluna munResAlt possui 1 valores faltantes.\n",
      "Coluna munResArea possui 1 valores faltantes.\n",
      "Esse DataFrame possui 45 variáveis com itens faltantes.\n"
     ]
    }
   ],
   "source": [
    "itens_faltates(sinasc)"
   ]
  },
  {
   "cell_type": "code",
   "execution_count": 5,
   "metadata": {},
   "outputs": [
    {
     "name": "stdout",
     "output_type": "stream",
     "text": [
      "Coluna ESTCIVMAE possui 317 valores faltantes.\n",
      "Coluna ESCMAE possui 312 valores faltantes.\n",
      "Coluna QTDFILVIVO possui 1573 valores faltantes.\n",
      "Coluna GESTACAO possui 1232 valores faltantes.\n",
      "Coluna GRAVIDEZ possui 79 valores faltantes.\n",
      "Coluna APGAR5 possui 103 valores faltantes.\n",
      "Esse DataFrame possui 6 variáveis com itens faltantes.\n"
     ]
    }
   ],
   "source": [
    "# 3) seu código aqui\n",
    "sinasc = sinasc[['LOCNASC', 'IDADEMAE', 'ESTCIVMAE', 'ESCMAE', 'QTDFILVIVO', 'GESTACAO', 'GRAVIDEZ', 'CONSULTAS', 'APGAR5']] \n",
    "itens_faltates(sinasc)"
   ]
  },
  {
   "cell_type": "code",
   "execution_count": 6,
   "metadata": {},
   "outputs": [
    {
     "data": {
      "text/plain": [
       "26925"
      ]
     },
     "execution_count": 6,
     "metadata": {},
     "output_type": "execute_result"
    }
   ],
   "source": [
    "# 4) seu código aqui\n",
    "sinasc.dropna(subset=['APGAR5'],inplace=True)\n",
    "sinasc.shape[0]"
   ]
  },
  {
   "cell_type": "code",
   "execution_count": 7,
   "metadata": {},
   "outputs": [
    {
     "name": "stdout",
     "output_type": "stream",
     "text": [
      "<class 'pandas.core.frame.DataFrame'>\n",
      "Int64Index: 26925 entries, 0 to 27027\n",
      "Data columns (total 9 columns):\n",
      " #   Column      Non-Null Count  Dtype  \n",
      "---  ------      --------------  -----  \n",
      " 0   LOCNASC     26925 non-null  int64  \n",
      " 1   IDADEMAE    26925 non-null  int64  \n",
      " 2   ESTCIVMAE   26925 non-null  float64\n",
      " 3   ESCMAE      26615 non-null  object \n",
      " 4   QTDFILVIVO  25359 non-null  float64\n",
      " 5   GESTACAO    25709 non-null  object \n",
      " 6   GRAVIDEZ    26849 non-null  object \n",
      " 7   CONSULTAS   26925 non-null  int64  \n",
      " 8   APGAR5      26925 non-null  float64\n",
      "dtypes: float64(3), int64(3), object(3)\n",
      "memory usage: 2.1+ MB\n"
     ]
    }
   ],
   "source": [
    "# 5) seu código aqui\n",
    "sinasc['CONSULTAS'].fillna(9,inplace = True)\n",
    "sinasc['ESTCIVMAE'].fillna(9, inplace = True)\n",
    "\n",
    "sinasc.info()"
   ]
  },
  {
   "cell_type": "code",
   "execution_count": 8,
   "metadata": {},
   "outputs": [
    {
     "name": "stdout",
     "output_type": "stream",
     "text": [
      "<class 'pandas.core.frame.DataFrame'>\n",
      "Int64Index: 26925 entries, 0 to 27027\n",
      "Data columns (total 9 columns):\n",
      " #   Column      Non-Null Count  Dtype  \n",
      "---  ------      --------------  -----  \n",
      " 0   LOCNASC     26925 non-null  int64  \n",
      " 1   IDADEMAE    26925 non-null  int64  \n",
      " 2   ESTCIVMAE   26925 non-null  float64\n",
      " 3   ESCMAE      26615 non-null  object \n",
      " 4   QTDFILVIVO  26925 non-null  float64\n",
      " 5   GESTACAO    25709 non-null  object \n",
      " 6   GRAVIDEZ    26849 non-null  object \n",
      " 7   CONSULTAS   26925 non-null  int64  \n",
      " 8   APGAR5      26925 non-null  float64\n",
      "dtypes: float64(3), int64(3), object(3)\n",
      "memory usage: 2.1+ MB\n"
     ]
    }
   ],
   "source": [
    "# 6) Seu código aqui\n",
    "sinasc['QTDFILVIVO'].fillna(0, inplace = True)\n",
    "sinasc.info()"
   ]
  },
  {
   "cell_type": "code",
   "execution_count": 9,
   "metadata": {},
   "outputs": [
    {
     "name": "stdout",
     "output_type": "stream",
     "text": [
      "<class 'pandas.core.frame.DataFrame'>\n",
      "Int64Index: 26925 entries, 0 to 27027\n",
      "Data columns (total 9 columns):\n",
      " #   Column      Non-Null Count  Dtype  \n",
      "---  ------      --------------  -----  \n",
      " 0   LOCNASC     26925 non-null  int64  \n",
      " 1   IDADEMAE    26925 non-null  int64  \n",
      " 2   ESTCIVMAE   26925 non-null  float64\n",
      " 3   ESCMAE      26925 non-null  object \n",
      " 4   QTDFILVIVO  26925 non-null  float64\n",
      " 5   GESTACAO    26925 non-null  object \n",
      " 6   GRAVIDEZ    26925 non-null  object \n",
      " 7   CONSULTAS   26925 non-null  int64  \n",
      " 8   APGAR5      26925 non-null  float64\n",
      "dtypes: float64(3), int64(3), object(3)\n",
      "memory usage: 2.1+ MB\n"
     ]
    }
   ],
   "source": [
    "# 7) seu código aqui\n",
    "sinasc['ESCMAE'].fillna('Ignorado', inplace = True)\n",
    "sinasc['GRAVIDEZ'].fillna('Ignorado', inplace = True)\n",
    "sinasc['GESTACAO'].fillna('Ignorado', inplace = True)\n",
    "sinasc.info()"
   ]
  },
  {
   "cell_type": "code",
   "execution_count": 10,
   "metadata": {},
   "outputs": [
    {
     "name": "stdout",
     "output_type": "stream",
     "text": [
      "Esse DataFrame possui 0 variáveis com itens faltantes.\n"
     ]
    }
   ],
   "source": [
    "itens_faltates(sinasc)"
   ]
  },
  {
   "cell_type": "code",
   "execution_count": 11,
   "metadata": {},
   "outputs": [],
   "source": [
    "# 8) seu código aqui\n",
    "sinasc['APGAR5'].unique()\n",
    "sinasc['APGAR5_DESC'] = None\n",
    "sinasc.loc[sinasc['APGAR5'] >= 8,'APGAR5_DESC'] =  'normal'\n",
    "sinasc.loc[(sinasc['APGAR5'] >= 6) & (sinasc['APGAR5'] < 8),'APGAR5_DESC'] =  'asfixia leve'\n",
    "sinasc.loc[(sinasc['APGAR5'] >= 4) & (sinasc['APGAR5'] < 6),'APGAR5_DESC'] =  'asfixia moderada'\n",
    "sinasc.loc[sinasc['APGAR5'] < 4,'APGAR5_DESC'] =  'asfixia severa'"
   ]
  },
  {
   "cell_type": "code",
   "execution_count": 12,
   "metadata": {
    "scrolled": false
   },
   "outputs": [
    {
     "data": {
      "text/html": [
       "<div>\n",
       "<style scoped>\n",
       "    .dataframe tbody tr th:only-of-type {\n",
       "        vertical-align: middle;\n",
       "    }\n",
       "\n",
       "    .dataframe tbody tr th {\n",
       "        vertical-align: top;\n",
       "    }\n",
       "\n",
       "    .dataframe thead th {\n",
       "        text-align: right;\n",
       "    }\n",
       "</style>\n",
       "<table border=\"1\" class=\"dataframe\">\n",
       "  <thead>\n",
       "    <tr style=\"text-align: right;\">\n",
       "      <th></th>\n",
       "      <th>LOCNASC</th>\n",
       "      <th>IDADEMAE</th>\n",
       "      <th>ESTCIVMAE</th>\n",
       "      <th>ESCMAE</th>\n",
       "      <th>QTDFILVIVO</th>\n",
       "      <th>GESTACAO</th>\n",
       "      <th>GRAVIDEZ</th>\n",
       "      <th>CONSULTAS</th>\n",
       "      <th>APGAR5</th>\n",
       "      <th>APGAR5_DESC</th>\n",
       "    </tr>\n",
       "  </thead>\n",
       "  <tbody>\n",
       "    <tr>\n",
       "      <th>0</th>\n",
       "      <td>1</td>\n",
       "      <td>19</td>\n",
       "      <td>5.0</td>\n",
       "      <td>8 a 11 anos</td>\n",
       "      <td>0.0</td>\n",
       "      <td>37 a 41 semanas</td>\n",
       "      <td>Única</td>\n",
       "      <td>4</td>\n",
       "      <td>10.0</td>\n",
       "      <td>normal</td>\n",
       "    </tr>\n",
       "    <tr>\n",
       "      <th>1</th>\n",
       "      <td>1</td>\n",
       "      <td>29</td>\n",
       "      <td>2.0</td>\n",
       "      <td>8 a 11 anos</td>\n",
       "      <td>1.0</td>\n",
       "      <td>37 a 41 semanas</td>\n",
       "      <td>Única</td>\n",
       "      <td>4</td>\n",
       "      <td>9.0</td>\n",
       "      <td>normal</td>\n",
       "    </tr>\n",
       "    <tr>\n",
       "      <th>2</th>\n",
       "      <td>1</td>\n",
       "      <td>37</td>\n",
       "      <td>9.0</td>\n",
       "      <td>8 a 11 anos</td>\n",
       "      <td>2.0</td>\n",
       "      <td>37 a 41 semanas</td>\n",
       "      <td>Única</td>\n",
       "      <td>4</td>\n",
       "      <td>10.0</td>\n",
       "      <td>normal</td>\n",
       "    </tr>\n",
       "    <tr>\n",
       "      <th>3</th>\n",
       "      <td>1</td>\n",
       "      <td>30</td>\n",
       "      <td>5.0</td>\n",
       "      <td>12 anos ou mais</td>\n",
       "      <td>0.0</td>\n",
       "      <td>37 a 41 semanas</td>\n",
       "      <td>Única</td>\n",
       "      <td>3</td>\n",
       "      <td>10.0</td>\n",
       "      <td>normal</td>\n",
       "    </tr>\n",
       "    <tr>\n",
       "      <th>4</th>\n",
       "      <td>1</td>\n",
       "      <td>30</td>\n",
       "      <td>2.0</td>\n",
       "      <td>8 a 11 anos</td>\n",
       "      <td>1.0</td>\n",
       "      <td>37 a 41 semanas</td>\n",
       "      <td>Única</td>\n",
       "      <td>4</td>\n",
       "      <td>10.0</td>\n",
       "      <td>normal</td>\n",
       "    </tr>\n",
       "  </tbody>\n",
       "</table>\n",
       "</div>"
      ],
      "text/plain": [
       "   LOCNASC  IDADEMAE  ESTCIVMAE           ESCMAE  QTDFILVIVO         GESTACAO  \\\n",
       "0        1        19        5.0      8 a 11 anos         0.0  37 a 41 semanas   \n",
       "1        1        29        2.0      8 a 11 anos         1.0  37 a 41 semanas   \n",
       "2        1        37        9.0      8 a 11 anos         2.0  37 a 41 semanas   \n",
       "3        1        30        5.0  12 anos ou mais         0.0  37 a 41 semanas   \n",
       "4        1        30        2.0      8 a 11 anos         1.0  37 a 41 semanas   \n",
       "\n",
       "  GRAVIDEZ  CONSULTAS  APGAR5 APGAR5_DESC  \n",
       "0    Única          4    10.0      normal  \n",
       "1    Única          4     9.0      normal  \n",
       "2    Única          4    10.0      normal  \n",
       "3    Única          3    10.0      normal  \n",
       "4    Única          4    10.0      normal  "
      ]
     },
     "execution_count": 12,
     "metadata": {},
     "output_type": "execute_result"
    }
   ],
   "source": [
    "sinasc.head()"
   ]
  },
  {
   "cell_type": "code",
   "execution_count": 13,
   "metadata": {},
   "outputs": [
    {
     "data": {
      "text/plain": [
       "normal              26463\n",
       "asfixia leve          320\n",
       "asfixia severa         74\n",
       "asfixia moderada       68\n",
       "Name: APGAR5_DESC, dtype: int64"
      ]
     },
     "execution_count": 13,
     "metadata": {},
     "output_type": "execute_result"
    }
   ],
   "source": [
    "sinasc['APGAR5_DESC'].value_counts()"
   ]
  },
  {
   "cell_type": "code",
   "execution_count": 14,
   "metadata": {},
   "outputs": [
    {
     "data": {
      "image/png": "[encoded data removed]",
      "text/plain": [
       "<Figure size 864x576 with 1 Axes>"
      ]
     },
     "metadata": {
      "needs_background": "light"
     },
     "output_type": "display_data"
    }
   ],
   "source": [
    "plt.rcParams['figure.figsize'] = [12,8]\n",
    "ax = sns.barplot(x=sinasc['APGAR5'].value_counts().index,y=sinasc['APGAR5'].value_counts())\n",
    "plt.show()"
   ]
  },
  {
   "cell_type": "code",
   "execution_count": 24,
   "metadata": {},
   "outputs": [],
   "source": [
    "# 9) seu código aqui\n",
    "for col in sinasc.columns:\n",
    "    if sinasc[col].dtypes == 'O':\n",
    "        sinasc[col]=sinasc[col].replace(regex=r' ',value ='_').str.lower()"
   ]
  },
  {
   "cell_type": "code",
   "execution_count": 25,
   "metadata": {},
   "outputs": [
    {
     "data": {
      "text/plain": [
       "0            8_a_11_anos\n",
       "1            8_a_11_anos\n",
       "2            8_a_11_anos\n",
       "3        12_anos_ou_mais\n",
       "4            8_a_11_anos\n",
       "              ...       \n",
       "27023    12_anos_ou_mais\n",
       "27024        8_a_11_anos\n",
       "27025        8_a_11_anos\n",
       "27026        8_a_11_anos\n",
       "27027        8_a_11_anos\n",
       "Name: ESCMAE, Length: 26925, dtype: object"
      ]
     },
     "execution_count": 25,
     "metadata": {},
     "output_type": "execute_result"
    }
   ],
   "source": [
    "sinasc['ESCMAE']"
   ]
  }
 ],
 "metadata": {
  "kernelspec": {
   "display_name": "Python 3",
   "language": "python",
   "name": "python3"
  },
  "language_info": {
   "codemirror_mode": {
    "name": "ipython",
    "version": 3
   },
   "file_extension": ".py",
   "mimetype": "text/x-python",
   "name": "python",
   "nbconvert_exporter": "python",
   "pygments_lexer": "ipython3",
   "version": "3.8.8"
  }
 },
 "nbformat": 4,
 "nbformat_minor": 4
}
